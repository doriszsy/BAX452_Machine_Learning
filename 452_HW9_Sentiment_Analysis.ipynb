{
 "cells": [
  {
   "cell_type": "markdown",
   "metadata": {},
   "source": [
    "### Azure Sentiment Analysis on Wine Description"
   ]
  },
  {
   "cell_type": "code",
   "execution_count": 1,
   "metadata": {},
   "outputs": [],
   "source": [
    "import csv"
   ]
  },
  {
   "cell_type": "code",
   "execution_count": 2,
   "metadata": {},
   "outputs": [],
   "source": [
    "f = open('data/NLP/winemag-data_first150k.csv', encoding=\"utf8\" )\n",
    "dataset = csv.reader(f)\n",
    "data_read = [row for row in dataset]"
   ]
  },
  {
   "cell_type": "code",
   "execution_count": 3,
   "metadata": {},
   "outputs": [
    {
     "name": "stdout",
     "output_type": "stream",
     "text": [
      "[['', 'country', 'description', 'designation', 'points', 'price', 'province', 'region_1', 'region_2', 'variety', 'winery'], ['0', 'US', 'This tremendous 100% varietal wine hails from Oakville and was aged over three years in oak. Juicy red-cherry fruit and a compelling hint of caramel greet the palate, framed by elegant, fine tannins and a subtle minty tone in the background. Balanced and rewarding from start to finish, it has years ahead of it to develop further nuance. Enjoy 2022–2030.', \"Martha's Vineyard\", '96', '235.0', 'California', 'Napa Valley', 'Napa', 'Cabernet Sauvignon', 'Heitz'], ['1', 'Spain', 'Ripe aromas of fig, blackberry and cassis are softened and sweetened by a slathering of oaky chocolate and vanilla. This is full, layered, intense and cushioned on the palate, with rich flavors of chocolaty black fruits and baking spices. A toasty, everlasting finish is heady but ideally balanced. Drink through 2023.', 'Carodorum Selección Especial Reserva', '96', '110.0', 'Northern Spain', 'Toro', '', 'Tinta de Toro', 'Bodega Carmen Rodríguez'], ['2', 'US', 'Mac Watson honors the memory of a wine once made by his mother in this tremendously delicious, balanced and complex botrytised white. Dark gold in color, it layers toasted hazelnut, pear compote and orange peel flavors, reveling in the succulence of its 122 g/L of residual sugar.', 'Special Selected Late Harvest', '96', '90.0', 'California', 'Knights Valley', 'Sonoma', 'Sauvignon Blanc', 'Macauley'], ['3', 'US', \"This spent 20 months in 30% new French oak, and incorporates fruit from Ponzi's Aurora, Abetina and Madrona vineyards, among others. Aromatic, dense and toasty, it deftly blends aromas and flavors of toast, cigar box, blackberry, black cherry, coffee and graphite. Tannins are polished to a fine sheen, and frame a finish loaded with dark chocolate and espresso. Drink now through 2032.\", 'Reserve', '96', '65.0', 'Oregon', 'Willamette Valley', 'Willamette Valley', 'Pinot Noir', 'Ponzi']]\n"
     ]
    }
   ],
   "source": [
    "print(data_read[:5])"
   ]
  },
  {
   "cell_type": "code",
   "execution_count": 4,
   "metadata": {},
   "outputs": [],
   "source": [
    "index = 0\n",
    "documents = {\"documents\":[]}\n",
    "for each in data_read[1:5]:\n",
    "    dataEntry = {'id': index, 'language':\"en\", 'text': each[2]}\n",
    "    documents[\"documents\"].append(dataEntry)\n",
    "    index += 1\n"
   ]
  },
  {
   "cell_type": "code",
   "execution_count": 6,
   "metadata": {},
   "outputs": [],
   "source": [
    "import boto3\n",
    "import pandas as pd\n",
    "import requests\n",
    "import os\n",
    "import seaborn as sns\n",
    "import matplotlib.pyplot as plt"
   ]
  },
  {
   "cell_type": "code",
   "execution_count": 7,
   "metadata": {},
   "outputs": [],
   "source": [
    "text_analytics_base_url = \"https://westcentralus.api.cognitive.microsoft.com/text/analytics/v2.0/\""
   ]
  },
  {
   "cell_type": "code",
   "execution_count": 8,
   "metadata": {},
   "outputs": [
    {
     "data": {
      "text/plain": [
       "[{'id': 0,\n",
       "  'language': 'en',\n",
       "  'text': 'This tremendous 100% varietal wine hails from Oakville and was aged over three years in oak. Juicy red-cherry fruit and a compelling hint of caramel greet the palate, framed by elegant, fine tannins and a subtle minty tone in the background. Balanced and rewarding from start to finish, it has years ahead of it to develop further nuance. Enjoy 2022–2030.'},\n",
       " {'id': 1,\n",
       "  'language': 'en',\n",
       "  'text': 'Ripe aromas of fig, blackberry and cassis are softened and sweetened by a slathering of oaky chocolate and vanilla. This is full, layered, intense and cushioned on the palate, with rich flavors of chocolaty black fruits and baking spices. A toasty, everlasting finish is heady but ideally balanced. Drink through 2023.'},\n",
       " {'id': 2,\n",
       "  'language': 'en',\n",
       "  'text': 'Mac Watson honors the memory of a wine once made by his mother in this tremendously delicious, balanced and complex botrytised white. Dark gold in color, it layers toasted hazelnut, pear compote and orange peel flavors, reveling in the succulence of its 122 g/L of residual sugar.'},\n",
       " {'id': 3,\n",
       "  'language': 'en',\n",
       "  'text': \"This spent 20 months in 30% new French oak, and incorporates fruit from Ponzi's Aurora, Abetina and Madrona vineyards, among others. Aromatic, dense and toasty, it deftly blends aromas and flavors of toast, cigar box, blackberry, black cherry, coffee and graphite. Tannins are polished to a fine sheen, and frame a finish loaded with dark chocolate and espresso. Drink now through 2032.\"}]"
      ]
     },
     "execution_count": 8,
     "metadata": {},
     "output_type": "execute_result"
    }
   ],
   "source": [
    "documents['documents'][:5]"
   ]
  },
  {
   "cell_type": "code",
   "execution_count": 9,
   "metadata": {},
   "outputs": [],
   "source": [
    "from pprint import pprint"
   ]
  },
  {
   "cell_type": "code",
   "execution_count": 11,
   "metadata": {},
   "outputs": [],
   "source": [
    "file = open('data/rootkey.csv')\n",
    "keys = csv.reader(file)\n",
    "myKeys = []\n",
    "for each in keys:\n",
    "    for string in each:\n",
    "        myKeys.append(string.split('=', 1)[1])"
   ]
  },
  {
   "cell_type": "code",
   "execution_count": 12,
   "metadata": {},
   "outputs": [],
   "source": [
    "subscription_key = myKeys[2]\n",
    "assert subscription_key"
   ]
  },
  {
   "cell_type": "code",
   "execution_count": 13,
   "metadata": {},
   "outputs": [
    {
     "name": "stdout",
     "output_type": "stream",
     "text": [
      "{'documents': [{'id': '0', 'score': 0.9779012203216553},\n",
      "               {'id': '1', 'score': 0.958288848400116},\n",
      "               {'id': '2', 'score': 0.9469660520553589},\n",
      "               {'id': '3', 'score': 0.9231853485107422}],\n",
      " 'errors': []}\n"
     ]
    }
   ],
   "source": [
    "sentiment_api_url = text_analytics_base_url + \"sentiment\"\n",
    "headers   = {\"Ocp-Apim-Subscription-Key\": subscription_key}\n",
    "response  = requests.post(sentiment_api_url, headers=headers, json=documents)\n",
    "languages = response.json()\n",
    "pprint(languages)"
   ]
  },
  {
   "cell_type": "code",
   "execution_count": 14,
   "metadata": {},
   "outputs": [],
   "source": [
    "df = pd.DataFrame(languages['documents'])"
   ]
  },
  {
   "cell_type": "code",
   "execution_count": 15,
   "metadata": {},
   "outputs": [
    {
     "data": {
      "text/html": [
       "<div>\n",
       "<style>\n",
       "    .dataframe thead tr:only-child th {\n",
       "        text-align: right;\n",
       "    }\n",
       "\n",
       "    .dataframe thead th {\n",
       "        text-align: left;\n",
       "    }\n",
       "\n",
       "    .dataframe tbody tr th {\n",
       "        vertical-align: top;\n",
       "    }\n",
       "</style>\n",
       "<table border=\"1\" class=\"dataframe\">\n",
       "  <thead>\n",
       "    <tr style=\"text-align: right;\">\n",
       "      <th></th>\n",
       "      <th>score</th>\n",
       "    </tr>\n",
       "  </thead>\n",
       "  <tbody>\n",
       "    <tr>\n",
       "      <th>count</th>\n",
       "      <td>4.000000</td>\n",
       "    </tr>\n",
       "    <tr>\n",
       "      <th>mean</th>\n",
       "      <td>0.951585</td>\n",
       "    </tr>\n",
       "    <tr>\n",
       "      <th>std</th>\n",
       "      <td>0.022843</td>\n",
       "    </tr>\n",
       "    <tr>\n",
       "      <th>min</th>\n",
       "      <td>0.923185</td>\n",
       "    </tr>\n",
       "    <tr>\n",
       "      <th>25%</th>\n",
       "      <td>0.941021</td>\n",
       "    </tr>\n",
       "    <tr>\n",
       "      <th>50%</th>\n",
       "      <td>0.952627</td>\n",
       "    </tr>\n",
       "    <tr>\n",
       "      <th>75%</th>\n",
       "      <td>0.963192</td>\n",
       "    </tr>\n",
       "    <tr>\n",
       "      <th>max</th>\n",
       "      <td>0.977901</td>\n",
       "    </tr>\n",
       "  </tbody>\n",
       "</table>\n",
       "</div>"
      ],
      "text/plain": [
       "          score\n",
       "count  4.000000\n",
       "mean   0.951585\n",
       "std    0.022843\n",
       "min    0.923185\n",
       "25%    0.941021\n",
       "50%    0.952627\n",
       "75%    0.963192\n",
       "max    0.977901"
      ]
     },
     "execution_count": 15,
     "metadata": {},
     "output_type": "execute_result"
    }
   ],
   "source": [
    "df.head()\n",
    "df.describe()"
   ]
  },
  {
   "cell_type": "code",
   "execution_count": 16,
   "metadata": {},
   "outputs": [
    {
     "data": {
      "text/plain": [
       "Text(0.5,1,'Density Plot of Sentiment Analysis for Wine Reviews via Azure NLP ')"
      ]
     },
     "execution_count": 16,
     "metadata": {},
     "output_type": "execute_result"
    }
   ],
   "source": [
    "fig, ax = plt.subplots()\n",
    "sns.kdeplot(df['score'], shade=True, ax=ax)\n",
    "fig.set_size_inches(11.7, 8.27)\n",
    "ax.set_title(\"Density Plot of Sentiment Analysis for Wine Reviews via Azure NLP \")"
   ]
  },
  {
   "cell_type": "markdown",
   "metadata": {},
   "source": [
    "### AWS Sentiment Analysis on Wine Description"
   ]
  },
  {
   "cell_type": "code",
   "execution_count": 17,
   "metadata": {},
   "outputs": [],
   "source": [
    "import json"
   ]
  },
  {
   "cell_type": "code",
   "execution_count": 18,
   "metadata": {},
   "outputs": [],
   "source": [
    "comprehend = boto3.client(service_name='comprehend', region_name='us-west-2', aws_access_key_id = myKeys[0], aws_secret_access_key = myKeys[1])"
   ]
  },
  {
   "cell_type": "code",
   "execution_count": 19,
   "metadata": {},
   "outputs": [
    {
     "name": "stdout",
     "output_type": "stream",
     "text": [
      "Calling  0  DetectSentiment\n",
      "{\n",
      "    \"ResponseMetadata\": {\n",
      "        \"HTTPHeaders\": {\n",
      "            \"connection\": \"keep-alive\",\n",
      "            \"content-length\": \"165\",\n",
      "            \"content-type\": \"application/x-amz-json-1.1\",\n",
      "            \"date\": \"Thu, 08 Mar 2018 09:27:39 GMT\",\n",
      "            \"x-amzn-requestid\": \"f209ed3e-22b2-11e8-90b5-8b3b912ae691\"\n",
      "        },\n",
      "        \"HTTPStatusCode\": 200,\n",
      "        \"RequestId\": \"f209ed3e-22b2-11e8-90b5-8b3b912ae691\",\n",
      "        \"RetryAttempts\": 0\n",
      "    },\n",
      "    \"Sentiment\": \"POSITIVE\",\n",
      "    \"SentimentScore\": {\n",
      "        \"Mixed\": 0.0021000285632908344,\n",
      "        \"Negative\": 0.0009093565749935806,\n",
      "        \"Neutral\": 0.13025645911693573,\n",
      "        \"Positive\": 0.8667342066764832\n",
      "    }\n",
      "}\n",
      "End of  0  DetectSentiment\n",
      "\n",
      "Calling  1  DetectSentiment\n",
      "{\n",
      "    \"ResponseMetadata\": {\n",
      "        \"HTTPHeaders\": {\n",
      "            \"connection\": \"keep-alive\",\n",
      "            \"content-length\": \"164\",\n",
      "            \"content-type\": \"application/x-amz-json-1.1\",\n",
      "            \"date\": \"Thu, 08 Mar 2018 09:27:39 GMT\",\n",
      "            \"x-amzn-requestid\": \"f219cc42-22b2-11e8-83ae-d1c43576fe61\"\n",
      "        },\n",
      "        \"HTTPStatusCode\": 200,\n",
      "        \"RequestId\": \"f219cc42-22b2-11e8-83ae-d1c43576fe61\",\n",
      "        \"RetryAttempts\": 0\n",
      "    },\n",
      "    \"Sentiment\": \"POSITIVE\",\n",
      "    \"SentimentScore\": {\n",
      "        \"Mixed\": 0.017817901447415352,\n",
      "        \"Negative\": 0.008452938869595528,\n",
      "        \"Neutral\": 0.14394821226596832,\n",
      "        \"Positive\": 0.8297809362411499\n",
      "    }\n",
      "}\n",
      "End of  1  DetectSentiment\n",
      "\n",
      "Calling  2  DetectSentiment\n",
      "{\n",
      "    \"ResponseMetadata\": {\n",
      "        \"HTTPHeaders\": {\n",
      "            \"connection\": \"keep-alive\",\n",
      "            \"content-length\": \"162\",\n",
      "            \"content-type\": \"application/x-amz-json-1.1\",\n",
      "            \"date\": \"Thu, 08 Mar 2018 09:27:39 GMT\",\n",
      "            \"x-amzn-requestid\": \"f22ba6d9-22b2-11e8-a211-a5d6a1828d9b\"\n",
      "        },\n",
      "        \"HTTPStatusCode\": 200,\n",
      "        \"RequestId\": \"f22ba6d9-22b2-11e8-a211-a5d6a1828d9b\",\n",
      "        \"RetryAttempts\": 0\n",
      "    },\n",
      "    \"Sentiment\": \"NEUTRAL\",\n",
      "    \"SentimentScore\": {\n",
      "        \"Mixed\": 0.004087392706423998,\n",
      "        \"Negative\": 0.00591144897043705,\n",
      "        \"Neutral\": 0.7522943615913391,\n",
      "        \"Positive\": 0.23770682513713837\n",
      "    }\n",
      "}\n",
      "End of  2  DetectSentiment\n",
      "\n",
      "Calling  3  DetectSentiment\n",
      "{\n",
      "    \"ResponseMetadata\": {\n",
      "        \"HTTPHeaders\": {\n",
      "            \"connection\": \"keep-alive\",\n",
      "            \"content-length\": \"166\",\n",
      "            \"content-type\": \"application/x-amz-json-1.1\",\n",
      "            \"date\": \"Thu, 08 Mar 2018 09:27:39 GMT\",\n",
      "            \"x-amzn-requestid\": \"f23ff179-22b2-11e8-866f-db0341e38b5b\"\n",
      "        },\n",
      "        \"HTTPStatusCode\": 200,\n",
      "        \"RequestId\": \"f23ff179-22b2-11e8-866f-db0341e38b5b\",\n",
      "        \"RetryAttempts\": 0\n",
      "    },\n",
      "    \"Sentiment\": \"POSITIVE\",\n",
      "    \"SentimentScore\": {\n",
      "        \"Mixed\": 0.0034499457105994225,\n",
      "        \"Negative\": 0.0020671819802373648,\n",
      "        \"Neutral\": 0.06545265763998032,\n",
      "        \"Positive\": 0.9290302395820618\n",
      "    }\n",
      "}\n",
      "End of  3  DetectSentiment\n",
      "\n"
     ]
    }
   ],
   "source": [
    "index = 0\n",
    "for each in documents['documents']:\n",
    "    print('Calling ', index ,' DetectSentiment')\n",
    "    print(json.dumps(comprehend.detect_sentiment(Text=each['text'], LanguageCode='en'), sort_keys=True, indent=4))\n",
    "    print('End of ', index ,' DetectSentiment\\n')\n",
    "    index += 1"
   ]
  }
 ],
 "metadata": {
  "kernelspec": {
   "display_name": "Python 3",
   "language": "python",
   "name": "python3"
  },
  "language_info": {
   "codemirror_mode": {
    "name": "ipython",
    "version": 3
   },
   "file_extension": ".py",
   "mimetype": "text/x-python",
   "name": "python",
   "nbconvert_exporter": "python",
   "pygments_lexer": "ipython3",
   "version": "3.6.3"
  }
 },
 "nbformat": 4,
 "nbformat_minor": 2
}
