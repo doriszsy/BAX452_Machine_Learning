{
 "cells": [
  {
   "cell_type": "markdown",
   "metadata": {
    "collapsed": true
   },
   "source": [
    "# Collaborative Filtering Using Surprise\n"
   ]
  },
  {
   "cell_type": "code",
   "execution_count": 13,
   "metadata": {
    "collapsed": true
   },
   "outputs": [],
   "source": [
    "# import library\n",
    "import pandas as pd\n",
    "import numpy as np\n",
    "\n",
    "from surprise import Reader\n",
    "from surprise import Dataset\n",
    "from surprise import SVD\n",
    "from surprise.model_selection import cross_validate\n"
   ]
  },
  {
   "cell_type": "code",
   "execution_count": 30,
   "metadata": {},
   "outputs": [
    {
     "data": {
      "text/html": [
       "<div>\n",
       "<style>\n",
       "    .dataframe thead tr:only-child th {\n",
       "        text-align: right;\n",
       "    }\n",
       "\n",
       "    .dataframe thead th {\n",
       "        text-align: left;\n",
       "    }\n",
       "\n",
       "    .dataframe tbody tr th {\n",
       "        vertical-align: top;\n",
       "    }\n",
       "</style>\n",
       "<table border=\"1\" class=\"dataframe\">\n",
       "  <thead>\n",
       "    <tr style=\"text-align: right;\">\n",
       "      <th></th>\n",
       "      <th>userID</th>\n",
       "      <th>itemID</th>\n",
       "      <th>rating</th>\n",
       "      <th>unixReviewTime</th>\n",
       "    </tr>\n",
       "  </thead>\n",
       "  <tbody>\n",
       "    <tr>\n",
       "      <th>0</th>\n",
       "      <td>AB9S9279OZ3QO</td>\n",
       "      <td>0078764343</td>\n",
       "      <td>5.00</td>\n",
       "      <td>1373155200</td>\n",
       "    </tr>\n",
       "    <tr>\n",
       "      <th>1</th>\n",
       "      <td>A24SSUT5CSW8BH</td>\n",
       "      <td>0078764343</td>\n",
       "      <td>5.00</td>\n",
       "      <td>1377302400</td>\n",
       "    </tr>\n",
       "    <tr>\n",
       "      <th>2</th>\n",
       "      <td>AK3V0HEBJMQ7J</td>\n",
       "      <td>0078764343</td>\n",
       "      <td>4.00</td>\n",
       "      <td>1372896000</td>\n",
       "    </tr>\n",
       "    <tr>\n",
       "      <th>3</th>\n",
       "      <td>A10BECPH7W8HM7</td>\n",
       "      <td>043933702X</td>\n",
       "      <td>5.00</td>\n",
       "      <td>1404950400</td>\n",
       "    </tr>\n",
       "    <tr>\n",
       "      <th>4</th>\n",
       "      <td>A2PRV9OULX1TWP</td>\n",
       "      <td>043933702X</td>\n",
       "      <td>5.00</td>\n",
       "      <td>1386115200</td>\n",
       "    </tr>\n",
       "  </tbody>\n",
       "</table>\n",
       "</div>"
      ],
      "text/plain": [
       "           userID      itemID  rating  unixReviewTime\n",
       "0   AB9S9279OZ3QO  0078764343    5.00      1373155200\n",
       "1  A24SSUT5CSW8BH  0078764343    5.00      1377302400\n",
       "2   AK3V0HEBJMQ7J  0078764343    4.00      1372896000\n",
       "3  A10BECPH7W8HM7  043933702X    5.00      1404950400\n",
       "4  A2PRV9OULX1TWP  043933702X    5.00      1386115200"
      ]
     },
     "execution_count": 30,
     "metadata": {},
     "output_type": "execute_result"
    }
   ],
   "source": [
    "# import data\n",
    "# Amazon ratings of Video Games\n",
    "df = pd.read_csv(\"Data/Ratings.csv\",header = None)\n",
    "df.columns =['userID','itemID','rating','unixReviewTime']\n",
    "df.head()"
   ]
  },
  {
   "cell_type": "code",
   "execution_count": 33,
   "metadata": {},
   "outputs": [
    {
     "data": {
      "text/html": [
       "<div>\n",
       "<style>\n",
       "    .dataframe thead tr:only-child th {\n",
       "        text-align: right;\n",
       "    }\n",
       "\n",
       "    .dataframe thead th {\n",
       "        text-align: left;\n",
       "    }\n",
       "\n",
       "    .dataframe tbody tr th {\n",
       "        vertical-align: top;\n",
       "    }\n",
       "</style>\n",
       "<table border=\"1\" class=\"dataframe\">\n",
       "  <thead>\n",
       "    <tr style=\"text-align: right;\">\n",
       "      <th></th>\n",
       "      <th>rating</th>\n",
       "      <th>unixReviewTime</th>\n",
       "    </tr>\n",
       "  </thead>\n",
       "  <tbody>\n",
       "    <tr>\n",
       "      <th>count</th>\n",
       "      <td>1324753.00</td>\n",
       "      <td>1324753.00</td>\n",
       "    </tr>\n",
       "    <tr>\n",
       "      <th>mean</th>\n",
       "      <td>3.98</td>\n",
       "      <td>1299233854.71</td>\n",
       "    </tr>\n",
       "    <tr>\n",
       "      <th>std</th>\n",
       "      <td>1.38</td>\n",
       "      <td>109255206.40</td>\n",
       "    </tr>\n",
       "    <tr>\n",
       "      <th>min</th>\n",
       "      <td>1.00</td>\n",
       "      <td>878947200.00</td>\n",
       "    </tr>\n",
       "    <tr>\n",
       "      <th>25%</th>\n",
       "      <td>3.00</td>\n",
       "      <td>1252022400.00</td>\n",
       "    </tr>\n",
       "    <tr>\n",
       "      <th>50%</th>\n",
       "      <td>5.00</td>\n",
       "      <td>1346544000.00</td>\n",
       "    </tr>\n",
       "    <tr>\n",
       "      <th>75%</th>\n",
       "      <td>5.00</td>\n",
       "      <td>1379894400.00</td>\n",
       "    </tr>\n",
       "    <tr>\n",
       "      <th>max</th>\n",
       "      <td>5.00</td>\n",
       "      <td>1406073600.00</td>\n",
       "    </tr>\n",
       "  </tbody>\n",
       "</table>\n",
       "</div>"
      ],
      "text/plain": [
       "          rating  unixReviewTime\n",
       "count 1324753.00      1324753.00\n",
       "mean        3.98   1299233854.71\n",
       "std         1.38    109255206.40\n",
       "min         1.00    878947200.00\n",
       "25%         3.00   1252022400.00\n",
       "50%         5.00   1346544000.00\n",
       "75%         5.00   1379894400.00\n",
       "max         5.00   1406073600.00"
      ]
     },
     "execution_count": 33,
     "metadata": {},
     "output_type": "execute_result"
    }
   ],
   "source": [
    "df.dropna()\n",
    "df.describe()"
   ]
  },
  {
   "cell_type": "code",
   "execution_count": 50,
   "metadata": {},
   "outputs": [
    {
     "name": "stdout",
     "output_type": "stream",
     "text": [
      "Number of users 826767\n",
      "Number of games 50210\n",
      "Top Reveiwer 880 ratings\n",
      "Top Game 16221 ratings\n"
     ]
    }
   ],
   "source": [
    "# check number of users and games\n",
    "\n",
    "n_users = df.userID.nunique()\n",
    "print('Number of users',n_users)\n",
    "n_games = df.itemID.nunique()\n",
    "print('Number of games', n_games)\n",
    "  \n",
    "max_user = df.groupby('userID')['rating'].count().max()\n",
    "print('Top Reveiwer', max_user, 'ratings')\n",
    "max_game = df.groupby('itemID')['rating'].count().max()\n",
    "print('Top Game', max_game, 'ratings')"
   ]
  },
  {
   "cell_type": "code",
   "execution_count": 34,
   "metadata": {},
   "outputs": [
    {
     "data": {
      "text/plain": [
       "<surprise.dataset.DatasetAutoFolds at 0x161994ea4e0>"
      ]
     },
     "execution_count": 34,
     "metadata": {},
     "output_type": "execute_result"
    }
   ],
   "source": [
    "# customize dataset to use Surprise\n",
    "\n",
    "from surprise import Reader\n",
    "from surprise import Dataset\n",
    "\n",
    "reader = Reader(rating_scale=(1, 5))\n",
    "\n",
    "data = Dataset.load_from_df(df[['userID', 'itemID', 'rating']], reader)\n",
    "data"
   ]
  },
  {
   "cell_type": "markdown",
   "metadata": {},
   "source": [
    "### SVD"
   ]
  },
  {
   "cell_type": "code",
   "execution_count": 37,
   "metadata": {},
   "outputs": [
    {
     "name": "stdout",
     "output_type": "stream",
     "text": [
      "Evaluating RMSE, MAE of algorithm SVD on 5 split(s).\n",
      "\n",
      "                  Fold 1  Fold 2  Fold 3  Fold 4  Fold 5  Mean    Std     \n",
      "RMSE (testset)    1.2505  1.2549  1.2522  1.2558  1.2530  1.2533  0.0019  \n",
      "MAE (testset)     0.9807  0.9835  0.9810  0.9831  0.9815  0.9820  0.0011  \n",
      "Fit time          158.96  166.04  163.27  157.38  89.30   146.99  29.01   \n",
      "Test time         6.29    5.24    4.70    3.71    3.01    4.59    1.15    \n"
     ]
    },
    {
     "data": {
      "text/plain": [
       "{'fit_time': (158.95942616462708,\n",
       "  166.03821873664856,\n",
       "  163.2711832523346,\n",
       "  157.37851119041443,\n",
       "  89.3022038936615),\n",
       " 'test_mae': array([ 0.98073135,  0.9835231 ,  0.98098581,  0.98307183,  0.98151104]),\n",
       " 'test_rmse': array([ 1.2505102 ,  1.25488836,  1.25224264,  1.25584443,  1.25298003]),\n",
       " 'test_time': (6.292738199234009,\n",
       "  5.2379326820373535,\n",
       "  4.704514741897583,\n",
       "  3.7082934379577637,\n",
       "  3.010585069656372)}"
      ]
     },
     "execution_count": 37,
     "metadata": {},
     "output_type": "execute_result"
    }
   ],
   "source": [
    "# Use the famous SVD algorithm.\n",
    "model = SVD()\n",
    "\n",
    "# Run 5-fold cross-validation and print results.\n",
    "cross_validate(model, data, measures=['RMSE', 'MAE'], cv=5, verbose=True)"
   ]
  },
  {
   "cell_type": "markdown",
   "metadata": {},
   "source": [
    "### Recommendation"
   ]
  },
  {
   "cell_type": "code",
   "execution_count": 69,
   "metadata": {},
   "outputs": [
    {
     "name": "stdout",
     "output_type": "stream",
     "text": [
      "                   userID  rating  unixReviewTime\n",
      "itemID                                           \n",
      "B00009VE6E  AZZTK25SW2VNN    5.00      1386892800\n",
      "B0002J9UB4  AZZTK25SW2VNN    5.00      1386892800\n",
      "B000FUWCRY  AZZTK25SW2VNN    5.00      1386892800\n",
      "B0013OL0BK  AZZTK25SW2VNN    5.00      1386892800\n",
      "B0037JT3TK  AZZTK25SW2VNN    5.00      1360368000\n"
     ]
    }
   ],
   "source": [
    "# for specific user AZZTK25SW2VNN\n",
    "\n",
    "id= 'AZZTK25SW2VNN'\n",
    "user_df = df[(df['userID'] == id) & (df['rating'] == 5)]\n",
    "user_df = user_df.set_index('itemID')\n",
    "print(user_df)"
   ]
  },
  {
   "cell_type": "code",
   "execution_count": 73,
   "metadata": {},
   "outputs": [
    {
     "name": "stdout",
     "output_type": "stream",
     "text": [
      "   level_0  index      itemID         userID  rating  unixReviewTime  \\\n",
      "3        3      3  B0013OL0BK  AZZTK25SW2VNN    5.00      1386892800   \n",
      "0        0      0  B00009VE6E  AZZTK25SW2VNN    5.00      1386892800   \n",
      "1        1      1  B0002J9UB4  AZZTK25SW2VNN    5.00      1386892800   \n",
      "2        2      2  B000FUWCRY  AZZTK25SW2VNN    5.00      1386892800   \n",
      "4        4      4  B0037JT3TK  AZZTK25SW2VNN    5.00      1360368000   \n",
      "\n",
      "   estimate_score  \n",
      "3            4.76  \n",
      "0            4.60  \n",
      "1            4.59  \n",
      "2            4.57  \n",
      "4            4.57  \n"
     ]
    }
   ],
   "source": [
    "# recommendation for this user\n",
    "# predict what game would user love to play\n",
    "\n",
    "trainset = data.build_full_trainset()\n",
    "model.fit(trainset)\n",
    "\n",
    "user_df = user_df.reset_index()\n",
    "user_df['estimate_score'] = user_df['itemID'].apply(lambda x: model.predict(id, x).est)\n",
    "user_df = user_df.sort_values('estimate_score', ascending=False)\n",
    "print(user_df.head(10))"
   ]
  },
  {
   "cell_type": "code",
   "execution_count": null,
   "metadata": {
    "collapsed": true
   },
   "outputs": [],
   "source": []
  }
 ],
 "metadata": {
  "kernelspec": {
   "display_name": "Python 3",
   "language": "python",
   "name": "python3"
  },
  "language_info": {
   "codemirror_mode": {
    "name": "ipython",
    "version": 3
   },
   "file_extension": ".py",
   "mimetype": "text/x-python",
   "name": "python",
   "nbconvert_exporter": "python",
   "pygments_lexer": "ipython3",
   "version": "3.6.3"
  }
 },
 "nbformat": 4,
 "nbformat_minor": 2
}
