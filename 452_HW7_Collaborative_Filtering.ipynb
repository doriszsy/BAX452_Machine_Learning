{
 "cells": [
  {
   "cell_type": "markdown",
   "metadata": {
    "collapsed": true
   },
   "source": [
    "# Collaborative Filtering Using Surprise\n"
   ]
  },
  {
   "cell_type": "code",
   "execution_count": 1,
   "metadata": {
    "collapsed": true
   },
   "outputs": [],
   "source": [
    "# import library\n",
    "import pandas as pd\n",
    "import numpy as np\n",
    "\n",
    "from surprise import Reader\n",
    "from surprise import Dataset\n",
    "from surprise import SVD\n",
    "from surprise.model_selection import cross_validate\n"
   ]
  },
  {
   "cell_type": "code",
   "execution_count": 2,
   "metadata": {},
   "outputs": [
    {
     "data": {
      "text/html": [
       "<div>\n",
       "<style>\n",
       "    .dataframe thead tr:only-child th {\n",
       "        text-align: right;\n",
       "    }\n",
       "\n",
       "    .dataframe thead th {\n",
       "        text-align: left;\n",
       "    }\n",
       "\n",
       "    .dataframe tbody tr th {\n",
       "        vertical-align: top;\n",
       "    }\n",
       "</style>\n",
       "<table border=\"1\" class=\"dataframe\">\n",
       "  <thead>\n",
       "    <tr style=\"text-align: right;\">\n",
       "      <th></th>\n",
       "      <th>userID</th>\n",
       "      <th>itemID</th>\n",
       "      <th>rating</th>\n",
       "      <th>unixReviewTime</th>\n",
       "    </tr>\n",
       "  </thead>\n",
       "  <tbody>\n",
       "    <tr>\n",
       "      <th>0</th>\n",
       "      <td>AB9S9279OZ3QO</td>\n",
       "      <td>0078764343</td>\n",
       "      <td>5.0</td>\n",
       "      <td>1373155200</td>\n",
       "    </tr>\n",
       "    <tr>\n",
       "      <th>1</th>\n",
       "      <td>A24SSUT5CSW8BH</td>\n",
       "      <td>0078764343</td>\n",
       "      <td>5.0</td>\n",
       "      <td>1377302400</td>\n",
       "    </tr>\n",
       "    <tr>\n",
       "      <th>2</th>\n",
       "      <td>AK3V0HEBJMQ7J</td>\n",
       "      <td>0078764343</td>\n",
       "      <td>4.0</td>\n",
       "      <td>1372896000</td>\n",
       "    </tr>\n",
       "    <tr>\n",
       "      <th>3</th>\n",
       "      <td>A10BECPH7W8HM7</td>\n",
       "      <td>043933702X</td>\n",
       "      <td>5.0</td>\n",
       "      <td>1404950400</td>\n",
       "    </tr>\n",
       "    <tr>\n",
       "      <th>4</th>\n",
       "      <td>A2PRV9OULX1TWP</td>\n",
       "      <td>043933702X</td>\n",
       "      <td>5.0</td>\n",
       "      <td>1386115200</td>\n",
       "    </tr>\n",
       "  </tbody>\n",
       "</table>\n",
       "</div>"
      ],
      "text/plain": [
       "           userID      itemID  rating  unixReviewTime\n",
       "0   AB9S9279OZ3QO  0078764343     5.0      1373155200\n",
       "1  A24SSUT5CSW8BH  0078764343     5.0      1377302400\n",
       "2   AK3V0HEBJMQ7J  0078764343     4.0      1372896000\n",
       "3  A10BECPH7W8HM7  043933702X     5.0      1404950400\n",
       "4  A2PRV9OULX1TWP  043933702X     5.0      1386115200"
      ]
     },
     "execution_count": 2,
     "metadata": {},
     "output_type": "execute_result"
    }
   ],
   "source": [
    "# import data\n",
    "# Amazon ratings of Video Games\n",
    "df = pd.read_csv(\"Data/Ratings.csv\",header = None)\n",
    "df.columns =['userID','itemID','rating','unixReviewTime']\n",
    "df.head()"
   ]
  },
  {
   "cell_type": "code",
   "execution_count": 3,
   "metadata": {},
   "outputs": [
    {
     "data": {
      "text/html": [
       "<div>\n",
       "<style>\n",
       "    .dataframe thead tr:only-child th {\n",
       "        text-align: right;\n",
       "    }\n",
       "\n",
       "    .dataframe thead th {\n",
       "        text-align: left;\n",
       "    }\n",
       "\n",
       "    .dataframe tbody tr th {\n",
       "        vertical-align: top;\n",
       "    }\n",
       "</style>\n",
       "<table border=\"1\" class=\"dataframe\">\n",
       "  <thead>\n",
       "    <tr style=\"text-align: right;\">\n",
       "      <th></th>\n",
       "      <th>rating</th>\n",
       "      <th>unixReviewTime</th>\n",
       "    </tr>\n",
       "  </thead>\n",
       "  <tbody>\n",
       "    <tr>\n",
       "      <th>count</th>\n",
       "      <td>1.324753e+06</td>\n",
       "      <td>1.324753e+06</td>\n",
       "    </tr>\n",
       "    <tr>\n",
       "      <th>mean</th>\n",
       "      <td>3.978754e+00</td>\n",
       "      <td>1.299234e+09</td>\n",
       "    </tr>\n",
       "    <tr>\n",
       "      <th>std</th>\n",
       "      <td>1.378987e+00</td>\n",
       "      <td>1.092552e+08</td>\n",
       "    </tr>\n",
       "    <tr>\n",
       "      <th>min</th>\n",
       "      <td>1.000000e+00</td>\n",
       "      <td>8.789472e+08</td>\n",
       "    </tr>\n",
       "    <tr>\n",
       "      <th>25%</th>\n",
       "      <td>3.000000e+00</td>\n",
       "      <td>1.252022e+09</td>\n",
       "    </tr>\n",
       "    <tr>\n",
       "      <th>50%</th>\n",
       "      <td>5.000000e+00</td>\n",
       "      <td>1.346544e+09</td>\n",
       "    </tr>\n",
       "    <tr>\n",
       "      <th>75%</th>\n",
       "      <td>5.000000e+00</td>\n",
       "      <td>1.379894e+09</td>\n",
       "    </tr>\n",
       "    <tr>\n",
       "      <th>max</th>\n",
       "      <td>5.000000e+00</td>\n",
       "      <td>1.406074e+09</td>\n",
       "    </tr>\n",
       "  </tbody>\n",
       "</table>\n",
       "</div>"
      ],
      "text/plain": [
       "             rating  unixReviewTime\n",
       "count  1.324753e+06    1.324753e+06\n",
       "mean   3.978754e+00    1.299234e+09\n",
       "std    1.378987e+00    1.092552e+08\n",
       "min    1.000000e+00    8.789472e+08\n",
       "25%    3.000000e+00    1.252022e+09\n",
       "50%    5.000000e+00    1.346544e+09\n",
       "75%    5.000000e+00    1.379894e+09\n",
       "max    5.000000e+00    1.406074e+09"
      ]
     },
     "execution_count": 3,
     "metadata": {},
     "output_type": "execute_result"
    }
   ],
   "source": [
    "df.dropna()\n",
    "df.describe()"
   ]
  },
  {
   "cell_type": "code",
   "execution_count": 4,
   "metadata": {},
   "outputs": [
    {
     "name": "stdout",
     "output_type": "stream",
     "text": [
      "Number of users 826767\n",
      "Number of games 50210\n",
      "Top Reveiwer 880 ratings\n",
      "Top Game 16221 ratings\n"
     ]
    }
   ],
   "source": [
    "# check number of users and games\n",
    "\n",
    "n_users = df.userID.nunique()\n",
    "print('Number of users',n_users)\n",
    "n_games = df.itemID.nunique()\n",
    "print('Number of games', n_games)\n",
    "  \n",
    "max_user = df.groupby('userID')['rating'].count().max()\n",
    "print('Top Reveiwer', max_user, 'ratings')\n",
    "max_game = df.groupby('itemID')['rating'].count().max()\n",
    "print('Top Game', max_game, 'ratings')"
   ]
  },
  {
   "cell_type": "code",
   "execution_count": 5,
   "metadata": {},
   "outputs": [
    {
     "data": {
      "text/plain": [
       "<surprise.dataset.DatasetAutoFolds at 0x159bda0eef0>"
      ]
     },
     "execution_count": 5,
     "metadata": {},
     "output_type": "execute_result"
    }
   ],
   "source": [
    "# customize dataset to use Surprise\n",
    "\n",
    "from surprise import Reader\n",
    "from surprise import Dataset\n",
    "\n",
    "reader = Reader(rating_scale=(1, 5))\n",
    "\n",
    "data = Dataset.load_from_df(df[['userID', 'itemID', 'rating']], reader)\n",
    "data"
   ]
  },
  {
   "cell_type": "markdown",
   "metadata": {},
   "source": [
    "### SVD"
   ]
  },
  {
   "cell_type": "code",
   "execution_count": 6,
   "metadata": {},
   "outputs": [
    {
     "name": "stdout",
     "output_type": "stream",
     "text": [
      "Evaluating RMSE, MAE of algorithm SVD on 3 split(s).\n",
      "\n",
      "                  Fold 1  Fold 2  Fold 3  Mean    Std     \n",
      "RMSE (testset)    1.2568  1.2573  1.2547  1.2563  0.0011  \n",
      "MAE (testset)     0.9858  0.9867  0.9835  0.9853  0.0014  \n",
      "Fit time          104.01  104.84  99.22   102.69  2.48    \n",
      "Test time         5.97    4.53    3.79    4.76    0.91    \n"
     ]
    },
    {
     "data": {
      "text/plain": [
       "{'fit_time': (104.01475405693054, 104.84029698371887, 99.22409987449646),\n",
       " 'test_mae': array([ 0.98581752,  0.98670601,  0.98347126]),\n",
       " 'test_rmse': array([ 1.25683448,  1.25734866,  1.25472148]),\n",
       " 'test_time': (5.969317436218262, 4.5317792892456055, 3.7885751724243164)}"
      ]
     },
     "execution_count": 6,
     "metadata": {},
     "output_type": "execute_result"
    }
   ],
   "source": [
    "# Use the famous SVD algorithm.\n",
    "model = SVD()\n",
    "\n",
    "# Run 3-fold cross-validation and print results.\n",
    "cross_validate(model, data, measures=['RMSE', 'MAE'], cv=3, verbose=True)"
   ]
  },
  {
   "cell_type": "markdown",
   "metadata": {},
   "source": [
    "### Recommendation"
   ]
  },
  {
   "cell_type": "code",
   "execution_count": 7,
   "metadata": {},
   "outputs": [
    {
     "data": {
      "text/html": [
       "<div>\n",
       "<style>\n",
       "    .dataframe thead tr:only-child th {\n",
       "        text-align: right;\n",
       "    }\n",
       "\n",
       "    .dataframe thead th {\n",
       "        text-align: left;\n",
       "    }\n",
       "\n",
       "    .dataframe tbody tr th {\n",
       "        vertical-align: top;\n",
       "    }\n",
       "</style>\n",
       "<table border=\"1\" class=\"dataframe\">\n",
       "  <thead>\n",
       "    <tr style=\"text-align: right;\">\n",
       "      <th></th>\n",
       "      <th>userID</th>\n",
       "      <th>itemID</th>\n",
       "      <th>rating</th>\n",
       "      <th>unixReviewTime</th>\n",
       "    </tr>\n",
       "  </thead>\n",
       "  <tbody>\n",
       "    <tr>\n",
       "      <th>281591</th>\n",
       "      <td>AZZTC2OYVNE2Q</td>\n",
       "      <td>B000B9RI14</td>\n",
       "      <td>5.0</td>\n",
       "      <td>1365811200</td>\n",
       "    </tr>\n",
       "    <tr>\n",
       "      <th>576519</th>\n",
       "      <td>AZZTC2OYVNE2Q</td>\n",
       "      <td>B001PB9J14</td>\n",
       "      <td>3.0</td>\n",
       "      <td>1356566400</td>\n",
       "    </tr>\n",
       "    <tr>\n",
       "      <th>683761</th>\n",
       "      <td>AZZTC2OYVNE2Q</td>\n",
       "      <td>B002I0K50U</td>\n",
       "      <td>3.0</td>\n",
       "      <td>1365811200</td>\n",
       "    </tr>\n",
       "    <tr>\n",
       "      <th>704649</th>\n",
       "      <td>AZZTC2OYVNE2Q</td>\n",
       "      <td>B002P35JMO</td>\n",
       "      <td>5.0</td>\n",
       "      <td>1356566400</td>\n",
       "    </tr>\n",
       "    <tr>\n",
       "      <th>889750</th>\n",
       "      <td>AZZTC2OYVNE2Q</td>\n",
       "      <td>B004PAGJOC</td>\n",
       "      <td>4.0</td>\n",
       "      <td>1365811200</td>\n",
       "    </tr>\n",
       "    <tr>\n",
       "      <th>948325</th>\n",
       "      <td>AZZTC2OYVNE2Q</td>\n",
       "      <td>B0050SYX8W</td>\n",
       "      <td>4.0</td>\n",
       "      <td>1356566400</td>\n",
       "    </tr>\n",
       "    <tr>\n",
       "      <th>1028378</th>\n",
       "      <td>AZZTC2OYVNE2Q</td>\n",
       "      <td>B006W41X1S</td>\n",
       "      <td>5.0</td>\n",
       "      <td>1356566400</td>\n",
       "    </tr>\n",
       "    <tr>\n",
       "      <th>1176638</th>\n",
       "      <td>AZZTC2OYVNE2Q</td>\n",
       "      <td>B00BD9OLW0</td>\n",
       "      <td>5.0</td>\n",
       "      <td>1365811200</td>\n",
       "    </tr>\n",
       "  </tbody>\n",
       "</table>\n",
       "</div>"
      ],
      "text/plain": [
       "                userID      itemID  rating  unixReviewTime\n",
       "281591   AZZTC2OYVNE2Q  B000B9RI14     5.0      1365811200\n",
       "576519   AZZTC2OYVNE2Q  B001PB9J14     3.0      1356566400\n",
       "683761   AZZTC2OYVNE2Q  B002I0K50U     3.0      1365811200\n",
       "704649   AZZTC2OYVNE2Q  B002P35JMO     5.0      1356566400\n",
       "889750   AZZTC2OYVNE2Q  B004PAGJOC     4.0      1365811200\n",
       "948325   AZZTC2OYVNE2Q  B0050SYX8W     4.0      1356566400\n",
       "1028378  AZZTC2OYVNE2Q  B006W41X1S     5.0      1356566400\n",
       "1176638  AZZTC2OYVNE2Q  B00BD9OLW0     5.0      1365811200"
      ]
     },
     "execution_count": 7,
     "metadata": {},
     "output_type": "execute_result"
    }
   ],
   "source": [
    "# for specific user AZZTC2OYVNE2Q\n",
    "# historical ratings\n",
    "\n",
    "id= 'AZZTC2OYVNE2Q'\n",
    "df[(df['userID'] == id)]"
   ]
  },
  {
   "cell_type": "code",
   "execution_count": 8,
   "metadata": {},
   "outputs": [
    {
     "name": "stdout",
     "output_type": "stream",
     "text": [
      "                   userID  rating  unixReviewTime\n",
      "itemID                                           \n",
      "B000B9RI14  AZZTC2OYVNE2Q     5.0      1365811200\n",
      "B002P35JMO  AZZTC2OYVNE2Q     5.0      1356566400\n",
      "B006W41X1S  AZZTC2OYVNE2Q     5.0      1356566400\n",
      "B00BD9OLW0  AZZTC2OYVNE2Q     5.0      1365811200\n"
     ]
    }
   ],
   "source": [
    "# historical 5 star rating\n",
    "user_df = df[(df['userID'] == id) & (df['rating'] == 5)]\n",
    "user_df = user_df.set_index('itemID')\n",
    "print(user_df)"
   ]
  },
  {
   "cell_type": "code",
   "execution_count": 9,
   "metadata": {},
   "outputs": [
    {
     "name": "stdout",
     "output_type": "stream",
     "text": [
      "       itemID         userID  rating  unixReviewTime  estimate_score\n",
      "0  B000B9RI14  AZZTC2OYVNE2Q     5.0      1365811200        4.848344\n",
      "3  B00BD9OLW0  AZZTC2OYVNE2Q     5.0      1365811200        4.721596\n",
      "1  B002P35JMO  AZZTC2OYVNE2Q     5.0      1356566400        4.565306\n",
      "2  B006W41X1S  AZZTC2OYVNE2Q     5.0      1356566400        4.413981\n"
     ]
    }
   ],
   "source": [
    "# recommendation for this user\n",
    "# predict what game would user love to play\n",
    "\n",
    "trainset = data.build_full_trainset()\n",
    "model.fit(trainset)\n",
    "\n",
    "user_df = user_df.reset_index()\n",
    "user_df['estimate_score'] = user_df['itemID'].apply(lambda x: model.predict(id, x).est)\n",
    "user_df = user_df.sort_values('estimate_score', ascending=False)\n",
    "print(user_df.head(10))"
   ]
  },
  {
   "cell_type": "code",
   "execution_count": null,
   "metadata": {
    "collapsed": true
   },
   "outputs": [],
   "source": []
  }
 ],
 "metadata": {
  "kernelspec": {
   "display_name": "Python 3",
   "language": "python",
   "name": "python3"
  },
  "language_info": {
   "codemirror_mode": {
    "name": "ipython",
    "version": 3
   },
   "file_extension": ".py",
   "mimetype": "text/x-python",
   "name": "python",
   "nbconvert_exporter": "python",
   "pygments_lexer": "ipython3",
   "version": "3.6.3"
  }
 },
 "nbformat": 4,
 "nbformat_minor": 2
}
